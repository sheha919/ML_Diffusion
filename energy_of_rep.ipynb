{
 "cells": [
  {
   "cell_type": "code",
   "execution_count": 1,
   "metadata": {},
   "outputs": [],
   "source": [
    "import numpy as np\n",
    "import math\n",
    "import matplotlib.pyplot as plt\n",
    "import matplotlib.ticker as mtick"
   ]
  },
  {
   "cell_type": "code",
   "execution_count": 2,
   "metadata": {},
   "outputs": [
    {
     "name": "stdout",
     "output_type": "stream",
     "text": [
      "0 C:/Users/Sachith/Desktop/work_oh/Differnt_separations/15_13/water_40/md2\n",
      "1 C:/Users/Sachith/Desktop/work_oh/Differnt_separations/15_13/water_40/md3\n",
      "2 C:/Users/Sachith/Desktop/work_oh/Differnt_separations/15_13/water_40/md4\n",
      "3 C:/Users/Sachith/Desktop/work_oh/Differnt_separations/15_13/water_40/md5\n",
      "4 C:/Users/Sachith/Desktop/work_oh/Differnt_separations/15_13/water_40/md6\n",
      "5 C:/Users/Sachith/Desktop/work_oh/Differnt_separations/15_13/water_40/md7\n",
      "6 C:/Users/Sachith/Desktop/work_oh/Differnt_separations/15_13/water_40/md8\n",
      "7 C:/Users/Sachith/Desktop/work_oh/Differnt_separations/15_13/water_40/md9\n",
      "8 C:/Users/Sachith/Desktop/work_oh/Differnt_separations/15_13/water_40/md10\n",
      "9 C:/Users/Sachith/Desktop/work_oh/Differnt_separations/15_13/water_40/md11\n",
      "10 C:/Users/Sachith/Desktop/work_oh/Differnt_separations/15_13/water_40/md12\n",
      "11 C:/Users/Sachith/Desktop/work_oh/Differnt_separations/15_13/water_40/md13\n",
      "12 C:/Users/Sachith/Desktop/work_oh/Differnt_separations/15_13/water_40/md14\n",
      "13 C:/Users/Sachith/Desktop/work_oh/Differnt_separations/15_13/water_40/md15\n",
      "14 C:/Users/Sachith/Desktop/work_oh/Differnt_separations/15_13/water_40/md16\n",
      "15 C:/Users/Sachith/Desktop/work_oh/Differnt_separations/15_13/water_40/md17\n",
      "16 C:/Users/Sachith/Desktop/work_oh/Differnt_separations/15_13/water_40/md18\n",
      "17 C:/Users/Sachith/Desktop/work_oh/Differnt_separations/15_13/water_40/md19\n",
      "18 C:/Users/Sachith/Desktop/work_oh/Differnt_separations/15_13/water_40/md20\n",
      "19 C:/Users/Sachith/Desktop/work_oh/Differnt_separations/15_13/water_40/md21\n",
      "20 C:/Users/Sachith/Desktop/work_oh/Differnt_separations/15_13/water_40/md22\n",
      "21 C:/Users/Sachith/Desktop/work_oh/Differnt_separations/15_13/water_40/md23\n",
      "22 C:/Users/Sachith/Desktop/work_oh/Differnt_separations/15_13/water_40/md24\n",
      "23 C:/Users/Sachith/Desktop/work_oh/Differnt_separations/15_13/water_40/md25\n",
      "24 C:/Users/Sachith/Desktop/work_oh/Differnt_separations/15_13/water_40/md26\n"
     ]
    }
   ],
   "source": [
    "nrep = 25  # number of replications\n",
    "path_main = \"C:/Users/Sachith/Desktop/work_oh/Differnt_separations/15_13/water_40/\"\n",
    "path = [None] * (nrep)\n",
    "nn = 0\n",
    "while (nn<nrep):\n",
    "    path[nn] = path_main +'md'+str(nn+2)\n",
    "    nn = nn+1\n",
    "''' \n",
    "\n",
    "'''\n",
    "#path.pop(1)\n",
    "#path.pop(5)\n",
    "nn = 0\n",
    "while (nn<len(path)):\n",
    "    print(nn,path[nn])\n",
    "    nn = nn+1"
   ]
  },
  {
   "cell_type": "code",
   "execution_count": 3,
   "metadata": {},
   "outputs": [
    {
     "name": "stdout",
     "output_type": "stream",
     "text": [
      "['mean', 'total', 'energy', '=', '-491.939322392392512029']\n",
      "['mean', 'total', 'energy', '=', '-491.903089103577713104']\n",
      "['mean', 'total', 'energy', '=', '-491.956698454018010125']\n",
      "['mean', 'total', 'energy', '=', '-491.376468605578054394']\n",
      "['mean', 'total', 'energy', '=', '-491.942879497473711581']\n",
      "['mean', 'total', 'energy', '=', '-491.929667489780172218']\n",
      "['mean', 'total', 'energy', '=', '-491.948409810521866348']\n",
      "['mean', 'total', 'energy', '=', '-491.934971832002645442']\n",
      "['mean', 'total', 'energy', '=', '-491.942283091607862389']\n",
      "['mean', 'total', 'energy', '=', '-491.928546278995042940']\n",
      "['mean', 'total', 'energy', '=', '-491.929939590418939588']\n",
      "['mean', 'total', 'energy', '=', '-491.929898575579954922']\n",
      "['mean', 'total', 'energy', '=', '-491.937163141913913478']\n",
      "['mean', 'total', 'energy', '=', '-491.945747195265425944']\n",
      "['mean', 'total', 'energy', '=', '-491.941550858129403423']\n",
      "['mean', 'total', 'energy', '=', '-491.926845475950131004']\n",
      "['mean', 'total', 'energy', '=', '-491.935047159846249087']\n",
      "['mean', 'total', 'energy', '=', '-491.943059902192999289']\n",
      "['mean', 'total', 'energy', '=', '-491.930364287871213946']\n",
      "['mean', 'total', 'energy', '=', '-491.940280062460942645']\n",
      "['mean', 'total', 'energy', '=', '-491.926493451248461497']\n",
      "['mean', 'total', 'energy', '=', '-491.908305986250582009']\n",
      "['mean', 'total', 'energy', '=', '-491.932430228854343568']\n",
      "['mean', 'total', 'energy', '=', '-491.939336126876241906']\n",
      "['mean', 'total', 'energy', '=', '-491.945251253359572274']\n",
      "25\n"
     ]
    }
   ],
   "source": [
    "energy = np.empty(len(path))\n",
    "kk = 0\n",
    "while (kk<len(path)):\n",
    "    f=open(path[kk] +'/energy_data.dat','r')\n",
    "    lines=f.readlines()\n",
    "    for line in lines[7:8]:\n",
    "        data=line.split()\n",
    "        print(data)\n",
    "        energy[kk]=float(data[4])   \n",
    "    f.close()\n",
    "    kk = kk+1\n",
    "print(kk)"
   ]
  },
  {
   "cell_type": "code",
   "execution_count": 4,
   "metadata": {},
   "outputs": [
    {
     "data": {
      "text/plain": [
       "-491.9125619940867"
      ]
     },
     "execution_count": 4,
     "metadata": {},
     "output_type": "execute_result"
    }
   ],
   "source": [
    "np.mean(energy)"
   ]
  },
  {
   "cell_type": "code",
   "execution_count": 5,
   "metadata": {},
   "outputs": [
    {
     "data": {
      "text/plain": [
       "0.11000991763847269"
      ]
     },
     "execution_count": 5,
     "metadata": {},
     "output_type": "execute_result"
    }
   ],
   "source": [
    "np.std(energy)"
   ]
  },
  {
   "cell_type": "code",
   "execution_count": null,
   "metadata": {},
   "outputs": [],
   "source": []
  }
 ],
 "metadata": {
  "kernelspec": {
   "display_name": "Python 3 (ipykernel)",
   "language": "python",
   "name": "python3"
  },
  "language_info": {
   "codemirror_mode": {
    "name": "ipython",
    "version": 3
   },
   "file_extension": ".py",
   "mimetype": "text/x-python",
   "name": "python",
   "nbconvert_exporter": "python",
   "pygments_lexer": "ipython3",
   "version": "3.11.9"
  }
 },
 "nbformat": 4,
 "nbformat_minor": 4
}
