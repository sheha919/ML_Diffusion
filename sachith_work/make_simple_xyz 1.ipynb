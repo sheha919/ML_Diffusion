{
 "cells": [
  {
   "cell_type": "code",
   "execution_count": 1,
   "metadata": {},
   "outputs": [],
   "source": [
    "import numpy as np\n",
    "import math\n",
    "import matplotlib.pyplot as plt\n",
    "import matplotlib.ticker as mtick"
   ]
  },
  {
   "cell_type": "markdown",
   "metadata": {},
   "source": [
    "### give input data"
   ]
  },
  {
   "cell_type": "code",
   "execution_count": 2,
   "metadata": {},
   "outputs": [],
   "source": [
    "path = \"C:/Users/Sachith/Desktop/work_oh/different_water_density/water20/md6/\" #file path\n",
    "st = 432              #start writing at st\n",
    "endstep = 445   #stop writing at endstep"
   ]
  },
  {
   "cell_type": "code",
   "execution_count": 3,
   "metadata": {},
   "outputs": [
    {
     "name": "stdout",
     "output_type": "stream",
     "text": [
      "['total_time:', '9.55']\n",
      "['nsteps:', '9550']\n",
      "['natoms:', '323']\n",
      "['nonmvat:', '261']\n",
      "['nmovingatoms:', '62']\n",
      "['MDRestartFrequency:', '10']\n",
      "['dt:', '1']\n",
      "['noh:', '1']\n",
      "['nwater:', '20']\n",
      "['nox:', '21']\n",
      "['nhy:', '41']\n",
      "['xbox:', '12.664']\n",
      "['ybox:', '13.3552']\n",
      "['zbox:', '40.0']\n"
     ]
    }
   ],
   "source": [
    "f=open(path +'/input_data.dat','r')\n",
    "lines=f.readlines()\n",
    "for line in lines[0:]:\n",
    "    data=line.split()\n",
    "    print(data)\n",
    "    if data[0]=='nsteps:':\n",
    "        nsteps = int(data[1])\n",
    "    if data[0]=='natoms:':\n",
    "        natoms = int(data[1])\n",
    "    if data[0]=='nonmvat:':\n",
    "        nonmvat = int(data[1])\n",
    "    if data[0]=='nmovingatoms:':\n",
    "        nmovingatoms = int(data[1])\n",
    "    if data[0]=='MDRestartFrequency:':\n",
    "        MDRestartFrequency = int(data[1])\n",
    "    if data[0]=='dt:':\n",
    "        dt = float(data[1])\n",
    "    if data[0]=='noh:':\n",
    "        noh = int(data[1])\n",
    "    if data[0]=='nwater:':\n",
    "        nwater = int(data[1])\n",
    "    if data[0]=='nox:':\n",
    "        nox = int(data[1])\n",
    "    if data[0]=='nhy:':\n",
    "        nhy = int(data[1])\n",
    "    if data[0]=='xbox:':\n",
    "        xbox = float(data[1])\n",
    "    if data[0]=='ybox:':\n",
    "        ybox = float(data[1])\n",
    "    if data[0]=='zbox:':\n",
    "        zbox = float(data[1])\n",
    "        \n",
    "nsteps = int((nsteps/MDRestartFrequency)+1)\n",
    "nstep = nsteps   "
   ]
  },
  {
   "cell_type": "code",
   "execution_count": 4,
   "metadata": {},
   "outputs": [],
   "source": [
    "atom= ['Non']*(natoms)\n",
    "x_coor = np.empty(nsteps*natoms).reshape(natoms,nsteps)\n",
    "y_coor = np.empty(nsteps*natoms).reshape(natoms,nsteps)\n",
    "z_coor = np.empty(nsteps*natoms).reshape(natoms,nsteps)"
   ]
  },
  {
   "cell_type": "code",
   "execution_count": 5,
   "metadata": {},
   "outputs": [],
   "source": [
    "jj=0\n",
    "kk=0\n",
    "f=open(path +'/geo_end.xyz','r')\n",
    "lines=f.readlines()\n",
    "while jj < nsteps:\n",
    "    io=0\n",
    "    for line in lines[kk:(kk+natoms+2)]:\n",
    "        data=line.split()\n",
    "        if len(data)>3:\n",
    "            atom[io] = data[0]\n",
    "            x_coor[io][jj]=float(data[1])\n",
    "            y_coor[io][jj]=float(data[2])\n",
    "            z_coor[io][jj]=float(data[3])\n",
    "            io = io+1\n",
    "\n",
    "    kk=kk+natoms+2\n",
    "    jj=jj+1"
   ]
  },
  {
   "cell_type": "code",
   "execution_count": 6,
   "metadata": {},
   "outputs": [],
   "source": [
    "atom2 = atom[nonmvat:]         # remove frozen atoms\n",
    "x_coor2 = x_coor[nonmvat: , :]\n",
    "y_coor2 = y_coor[nonmvat: , :]\n",
    "z_coor2 = z_coor[nonmvat: , :]\n",
    "\n",
    "#x_coor2[46][:] = x_coor2[46][:] -xbox\n",
    "#x_coor2[44][:] = x_coor2[44][:] -xbox\n",
    "#x_coor2[17][:] = x_coor2[17][:] +xbox\n",
    "#y_coor2[53][:] = y_coor2[53][:] +ybox\n",
    "#y_coor2[10][:] = y_coor2[10][:] -ybox\n",
    "#y_coor2[17][:] = y_coor2[17][:] +ybox"
   ]
  },
  {
   "cell_type": "code",
   "execution_count": 7,
   "metadata": {},
   "outputs": [],
   "source": [
    "\n",
    "# move atoms n to the box\n",
    "ii=0\n",
    "jj=0\n",
    "while jj < nsteps:\n",
    "    ii=0\n",
    "    while ii < (natoms-nonmvat):\n",
    "        if x_coor2[ii][jj]>(xbox/2):\n",
    "            x_coor2[ii][jj]=x_coor2[ii][jj]-xbox\n",
    "        if x_coor2[ii][jj]<(-xbox/2):\n",
    "            x_coor2[ii][jj]=x_coor2[ii][jj]+xbox\n",
    "            \n",
    "        if y_coor2[ii][jj]>(ybox/2):\n",
    "            y_coor2[ii][jj]=y_coor2[ii][jj]-ybox\n",
    "        if y_coor2[ii][jj]<(-ybox/2):\n",
    "            y_coor2[ii][jj]=y_coor2[ii][jj]+ybox\n",
    "        ii=ii+1\n",
    "    jj=jj+1\n"
   ]
  },
  {
   "cell_type": "code",
   "execution_count": 8,
   "metadata": {},
   "outputs": [],
   "source": [
    "ll = st\n",
    "natoms2 = natoms-nonmvat\n",
    "f=open(path +'/geom.xyz','w')\n",
    "while ll < endstep :\n",
    "    kk = 0\n",
    "    print(natoms2,file =f)\n",
    "    print('MD iter:' , ll ,file =f)\n",
    "    while kk < natoms2 :\n",
    "        print('{:3}'.format(atom2[kk]),'{0: >#016.8f}'.format(x_coor2[kk][ll]),'{0: >#016.8f}'.format(y_coor2[kk][ll]),'{0: >#016.8f}'.format(z_coor2[kk][ll]),file =f )\n",
    "        kk=kk+1\n",
    "    ll = ll+1\n",
    "f.close()"
   ]
  },
  {
   "cell_type": "code",
   "execution_count": 9,
   "metadata": {},
   "outputs": [],
   "source": [
    "kk=0\n",
    "f=open(path +'/gengraphane.xyz','w')\n",
    "print(int((nonmvat-21)/2),file =f)\n",
    "f.write(\"\\n\")\n",
    "while kk < ((nonmvat-21)/2) :\n",
    "    print('{:3}'.format(atom[kk]),'{0: >#016.8f}'.format(x_coor[kk][0]),'{0: >#016.8f}'.format(y_coor[kk][0]),'{0: >#016.8f}'.format(z_coor[kk][0]),file =f )\n",
    "    kk=kk+1\n",
    "f.close()"
   ]
  },
  {
   "cell_type": "code",
   "execution_count": 10,
   "metadata": {},
   "outputs": [],
   "source": [
    "kk=nonmvat-21\n",
    "f=open(path +'/Co_groups.xyz','w')\n",
    "print(21*6,file =f)\n",
    "f.write(\"\\n\")\n",
    "while kk < nonmvat :\n",
    "    print('{:3}'.format(atom[kk]),'{0: >#016.8f}'.format(x_coor[kk][0]),'{0: >#016.8f}'.format(y_coor[kk][0]),'{0: >#016.8f}'.format(z_coor[kk][0]),file =f )\n",
    "    kk=kk+1\n",
    "\n",
    "kk=nonmvat-21\n",
    "while kk < nonmvat :\n",
    "    print('{:3}'.format(atom[kk]),'{0: >#016.8f}'.format(x_coor[kk][0]),'{0: >#016.8f}'.format(y_coor[kk][0]+ybox),'{0: >#016.8f}'.format(z_coor[kk][0]),file =f )\n",
    "    kk=kk+1\n",
    "kk=nonmvat-21\n",
    "while kk < nonmvat :\n",
    "    print('{:3}'.format(atom[kk]),'{0: >#016.8f}'.format(x_coor[kk][0]+xbox),'{0: >#016.8f}'.format(y_coor[kk][0]+ybox),'{0: >#016.8f}'.format(z_coor[kk][0]),file =f )\n",
    "    kk=kk+1\n",
    "kk=nonmvat-21\n",
    "while kk < nonmvat :\n",
    "    print('{:3}'.format(atom[kk]),'{0: >#016.8f}'.format(x_coor[kk][0]+xbox),'{0: >#016.8f}'.format(y_coor[kk][0]),'{0: >#016.8f}'.format(z_coor[kk][0]),file =f )\n",
    "    kk=kk+1\n",
    "kk=nonmvat-21\n",
    "while kk < nonmvat :\n",
    "    print('{:3}'.format(atom[kk]),'{0: >#016.8f}'.format(x_coor[kk][0]+xbox),'{0: >#016.8f}'.format(y_coor[kk][0]-ybox),'{0: >#016.8f}'.format(z_coor[kk][0]),file =f )\n",
    "    kk=kk+1\n",
    "kk=nonmvat-21\n",
    "while kk < nonmvat :\n",
    "    print('{:3}'.format(atom[kk]),'{0: >#016.8f}'.format(x_coor[kk][0]),'{0: >#016.8f}'.format(y_coor[kk][0]-ybox),'{0: >#016.8f}'.format(z_coor[kk][0]),file =f )\n",
    "    kk=kk+1\n",
    "\n",
    "f.close()"
   ]
  },
  {
   "cell_type": "code",
   "execution_count": 11,
   "metadata": {},
   "outputs": [
    {
     "name": "stdout",
     "output_type": "stream",
     "text": [
      "Done\n"
     ]
    }
   ],
   "source": [
    "print('Done')"
   ]
  },
  {
   "cell_type": "code",
   "execution_count": null,
   "metadata": {},
   "outputs": [],
   "source": []
  }
 ],
 "metadata": {
  "kernelspec": {
   "display_name": "Python 3 (ipykernel)",
   "language": "python",
   "name": "python3"
  },
  "language_info": {
   "codemirror_mode": {
    "name": "ipython",
    "version": 3
   },
   "file_extension": ".py",
   "mimetype": "text/x-python",
   "name": "python",
   "nbconvert_exporter": "python",
   "pygments_lexer": "ipython3",
   "version": "3.11.9"
  }
 },
 "nbformat": 4,
 "nbformat_minor": 4
}
