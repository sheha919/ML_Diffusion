{
 "cells": [
  {
   "cell_type": "code",
   "execution_count": null,
   "metadata": {},
   "outputs": [],
   "source": []
  },
  {
   "cell_type": "code",
   "execution_count": 1,
   "metadata": {},
   "outputs": [],
   "source": [
    "import numpy as np\n",
    "import math\n",
    "import matplotlib.pyplot as plt\n",
    "import matplotlib.ticker as mtick\n",
    "from numpy.linalg import eig\n",
    "import os"
   ]
  },
  {
   "cell_type": "code",
   "execution_count": 2,
   "metadata": {},
   "outputs": [],
   "source": [
    "path = \"C:/Users/Sachith/Desktop/work_oh/bulk_water/MD1_original\""
   ]
  },
  {
   "cell_type": "code",
   "execution_count": 3,
   "metadata": {},
   "outputs": [
    {
     "name": "stdout",
     "output_type": "stream",
     "text": [
      "nsteps:    20000\n",
      "natoms:    654\n",
      "nonmvat:    432\n",
      "nmovingatoms:    222\n",
      "MDRestartFrequency:    1\n",
      "dt:    1.0\n",
      "noh:    0\n",
      "nwater:    74\n",
      "nox:    74\n",
      "nhy:    148\n",
      "xbox:    22.784\n",
      "ybox:    13.3552\n",
      "zbox:    40.0\n"
     ]
    }
   ],
   "source": [
    "f=open(path +'/input_data.dat','r')\n",
    "lines=f.readlines()\n",
    "for line in lines[0:]:\n",
    "    data=line.split()\n",
    "    if data[0]=='nsteps:':\n",
    "        nsteps = int(data[1])\n",
    "    if data[0]=='natoms:':\n",
    "        natoms = int(data[1])\n",
    "    if data[0]=='nonmvat:':\n",
    "        nonmvat = int(data[1])\n",
    "    if data[0]=='nmovingatoms:':\n",
    "        nmovingatoms = int(data[1])\n",
    "    if data[0]=='MDRestartFrequency:':\n",
    "        MDRestartFrequency = int(data[1])\n",
    "    if data[0]=='dt:':\n",
    "        dt = float(data[1])\n",
    "    if data[0]=='noh:':\n",
    "        noh = int(data[1])\n",
    "    if data[0]=='nwater:':\n",
    "        nwater = int(data[1])\n",
    "    if data[0]=='nox:':\n",
    "        nox = int(data[1])\n",
    "    if data[0]=='nhy:':\n",
    "        nhy = int(data[1])\n",
    "    if data[0]=='xbox:':\n",
    "        xbox = float(data[1])\n",
    "    if data[0]=='ybox:':\n",
    "        ybox = float(data[1])\n",
    "    if data[0]=='zbox:':\n",
    "        zbox = float(data[1])\n",
    "        \n",
    "nsteps = int((nsteps/MDRestartFrequency)+1)-1\n",
    "nstep = nsteps\n",
    "        \n",
    "print('nsteps:','  ',nstep )\n",
    "print('natoms:','  ',natoms)\n",
    "print('nonmvat:','  ',nonmvat)\n",
    "print('nmovingatoms:','  ',nmovingatoms)\n",
    "print('MDRestartFrequency:','  ',MDRestartFrequency)\n",
    "print('dt:','  ',dt)\n",
    "print('noh:','  ',noh)\n",
    "print('nwater:','  ',nwater)\n",
    "print('nox:','  ',nox)\n",
    "print('nhy:','  ',nhy)\n",
    "print('xbox:','  ',xbox)\n",
    "print('ybox:','  ',ybox)\n",
    "print('zbox:','  ',zbox)"
   ]
  },
  {
   "cell_type": "code",
   "execution_count": 4,
   "metadata": {},
   "outputs": [
    {
     "name": "stdout",
     "output_type": "stream",
     "text": [
      "[433 436 439 442 445 448 451 454 457 460 463 466 469 472 475 478 481 484\n",
      " 487 490 493 496 499 502 505 508 511 514 517 520 523 526 529 532 535 538\n",
      " 541 544 547 550 553 556 559 562 565 568 571 574 577 580 583 586 589 592\n",
      " 595 598 601 604 607 610 613 616 619 622 625 628 631 634 637 640 643 646\n",
      " 649 652]\n",
      "[434 435 437 438 440 441 443 444 446 447 449 450 452 453 455 456 458 459\n",
      " 461 462 464 465 467 468 470 471 473 474 476 477 479 480 482 483 485 486\n",
      " 488 489 491 492 494 495 497 498 500 501 503 504 506 507 509 510 512 513\n",
      " 515 516 518 519 521 522 524 525 527 528 530 531 533 534 536 537 539 540\n",
      " 542 543 545 546 548 549 551 552 554 555 557 558 560 561 563 564 566 567\n",
      " 569 570 572 573 575 576 578 579 581 582 584 585 587 588 590 591 593 594\n",
      " 596 597 599 600 602 603 605 606 608 609 611 612 614 615 617 618 620 621\n",
      " 623 624 626 627 629 630 632 633 635 636 638 639 641 642 644 645 647 648\n",
      " 650 651 653 654]\n"
     ]
    }
   ],
   "source": [
    "ox = np.empty(nox,dtype=int)\n",
    "hy = np.empty(nhy+1,dtype=int)\n",
    "\n",
    "mm = 0\n",
    "nn = 1\n",
    "while mm<(nox):\n",
    "    ox[mm] = nn+nonmvat\n",
    "    mm = mm+1\n",
    "    nn = nn+3\n",
    "\n",
    "mm = 0\n",
    "nn =1\n",
    "while mm<(nhy):\n",
    "    hy[mm] = nn+nonmvat+1\n",
    "    hy[mm+1] = nn+nonmvat+2\n",
    "    mm = mm+2\n",
    "    nn = nn+3\n",
    "hy = hy[:-1]\n",
    "\n",
    "print(ox)\n",
    "print(hy)"
   ]
  },
  {
   "cell_type": "code",
   "execution_count": 5,
   "metadata": {},
   "outputs": [],
   "source": [
    "msd_of_oh = np.empty(nstep)\n",
    "msd_of_ohx = np.empty(nstep)\n",
    "msd_of_ohy = np.empty(nstep)\n",
    "msd_of_ohz = np.empty(nstep)\n",
    "oh_index = np.empty(nstep)\n",
    "xoh = np.empty(nstep)\n",
    "yoh = np.empty(nstep)\n",
    "zoh = np.empty(nstep)\n",
    "atom= ['Non']*(natoms)\n",
    "x_ox = np.empty(nstep*nox).reshape(nox,nstep)\n",
    "y_ox = np.empty(nstep*nox).reshape(nox,nstep)\n",
    "z_ox = np.empty(nstep*nox).reshape(nox,nstep)\n",
    "\n",
    "x_hy = np.empty(nstep*nhy).reshape(nhy,nstep)\n",
    "y_hy = np.empty(nstep*nhy).reshape(nhy,nstep)\n",
    "z_hy = np.empty(nstep*nhy).reshape(nhy,nstep)"
   ]
  },
  {
   "cell_type": "code",
   "execution_count": 6,
   "metadata": {},
   "outputs": [],
   "source": [
    "jj=0\n",
    "kk=0\n",
    "f=open(path +'/geo_end.xyz','r')\n",
    "lines=f.readlines()\n",
    "while jj < nstep:\n",
    "    io=0\n",
    "    ih=0\n",
    "    for line in lines[kk+nonmvat+2:(kk+natoms+2)]:\n",
    "        data=line.split()\n",
    "        if len(data)>3:\n",
    "            if data[0]=='O':\n",
    "                x_ox[io][jj]=float(data[1])\n",
    "                y_ox[io][jj]=float(data[2])\n",
    "                z_ox[io][jj]=float(data[3])\n",
    "                io = io+1\n",
    "            elif data[0]=='H':\n",
    "                x_hy[ih][jj]=float(data[1])\n",
    "                y_hy[ih][jj]=float(data[2])\n",
    "                z_hy[ih][jj]=float(data[3])\n",
    "                ih = ih+1\n",
    "    kk=kk+natoms+2\n",
    "    jj=jj+1\n",
    "f.close()"
   ]
  },
  {
   "cell_type": "code",
   "execution_count": 7,
   "metadata": {},
   "outputs": [
    {
     "data": {
      "text/plain": [
       "[<matplotlib.lines.Line2D at 0x17d277fc3c8>]"
      ]
     },
     "execution_count": 7,
     "metadata": {},
     "output_type": "execute_result"
    },
    {
     "data": {
      "image/png": "[encoded data removed]",
      "text/plain": [
       "<Figure size 432x288 with 1 Axes>"
      ]
     },
     "metadata": {
      "needs_background": "light"
     },
     "output_type": "display_data"
    }
   ],
   "source": [
    "plt.figure()\n",
    "plt.plot(x_ox[0][:])"
   ]
  },
  {
   "cell_type": "code",
   "execution_count": 123,
   "metadata": {},
   "outputs": [],
   "source": [
    "aa = 52\n",
    "x_o = np.empty(nstep)\n",
    "x_o = x_ox[aa][:]\n",
    "y_o = y_ox[aa][:]\n",
    "z_o = z_ox[aa][:]"
   ]
  },
  {
   "cell_type": "code",
   "execution_count": 124,
   "metadata": {},
   "outputs": [],
   "source": [
    "x_o = x_o[:10000:10]\n",
    "y_o = y_o[:10000:10]\n",
    "z_o = z_o[:10000:10]"
   ]
  },
  {
   "cell_type": "code",
   "execution_count": 125,
   "metadata": {},
   "outputs": [],
   "source": [
    "os.mkdir('C:/Users/Sachith/Desktop/work_oh/bulk_water/md24')\n",
    "path2 = 'C:/Users/Sachith/Desktop/work_oh/bulk_water/md24'"
   ]
  },
  {
   "cell_type": "code",
   "execution_count": 126,
   "metadata": {},
   "outputs": [],
   "source": [
    "kk=0\n",
    "f=open(path2 +'/oh1.dat','w')\n",
    "while kk < 1000 :\n",
    "    print('{:<6d}'.format(kk),'{:<6d}'.format(248),'{0: >#016.8f}'.format(x_o[kk]),'{0: >#016.8f}'.format(y_o[kk]),'{0: >#016.8f}'.format(z_o[kk]),file =f )\n",
    "    kk=kk+1\n",
    "f.close()"
   ]
  },
  {
   "cell_type": "code",
   "execution_count": 127,
   "metadata": {},
   "outputs": [
    {
     "data": {
      "text/plain": [
       "1000"
      ]
     },
     "execution_count": 127,
     "metadata": {},
     "output_type": "execute_result"
    }
   ],
   "source": [
    "len(x_o)"
   ]
  },
  {
   "cell_type": "code",
   "execution_count": null,
   "metadata": {},
   "outputs": [],
   "source": [
    "msdx = np.empty(nstep)\n",
    "msdy = np.empty(nstep)\n",
    "msdz = np.empty(nstep)\n",
    "\n",
    "msdx = (x_o-x_o[0])**2\n",
    "msdy = (y_o-y_o[0])**2\n",
    "msdz = (z_o-z_o[0])**2\n",
    "msdxy = (x_o-x_o[0])*(y_o-y_o[0])\n",
    "msdxz = (x_o-x_o[0])*(z_o-z_o[0])\n",
    "msdyz = (y_o-y_o[0])*(z_o-z_o[0])"
   ]
  },
  {
   "cell_type": "code",
   "execution_count": null,
   "metadata": {},
   "outputs": [],
   "source": [
    "nmsdend = 1000\n",
    "st = 0\n",
    "nd = nmsdend\n",
    "time=np.arange(len(msdx))\n",
    "time=time/(1000/(dt*10*MDRestartFrequency)) #/(1000/dt*steps)\n",
    "fitx=np.polyfit(time[st:nd],msdx[st:nd],1)\n",
    "fity=np.polyfit(time[st:nd],msdy[st:nd],1)\n",
    "fitz=np.polyfit(time[st:nd],msdz[st:nd],1)\n",
    "fitxy=np.polyfit(time[st:nd],msdxy[st:nd],1)\n",
    "fitxz=np.polyfit(time[st:nd],msdxz[st:nd],1)\n",
    "fityz=np.polyfit(time[st:nd],msdyz[st:nd],1)"
   ]
  },
  {
   "cell_type": "code",
   "execution_count": null,
   "metadata": {},
   "outputs": [],
   "source": [
    "print('starting point     =','{0: >#014.2f}'.format(st))\n",
    "print('end point          =','{0: >#014.2f}'.format(nd))\n",
    "print('slope of msd in X  =','{0: >#014.10f}'.format(fitx[0]))\n",
    "print('slope of msd in Y  =','{0: >#014.10f}'.format(fity[0]))\n",
    "print('slope of msd in Z  =','{0: >#014.10f}'.format(fitz[0]))"
   ]
  },
  {
   "cell_type": "code",
   "execution_count": null,
   "metadata": {},
   "outputs": [],
   "source": [
    "dxx = fitx[0]/2\n",
    "dyy = fity[0]/2\n",
    "dzz = fitz[0]/2\n",
    "dxy = fitxy[0]/2\n",
    "dxz = fitxz[0]/2\n",
    "dyz = fityz[0]/2"
   ]
  },
  {
   "cell_type": "code",
   "execution_count": null,
   "metadata": {},
   "outputs": [],
   "source": [
    "dd3d = np.array([[dxx, dxy, dxz], \n",
    "                 [dxy, dyy, dyz],\n",
    "                 [dxz, dyz, dzz]]) \n",
    "w,v=eig(dd3d)"
   ]
  },
  {
   "cell_type": "code",
   "execution_count": null,
   "metadata": {},
   "outputs": [],
   "source": [
    "print('Dx  =','{0: >#014.10f}'.format(w[0]))\n",
    "print('Dy  =','{0: >#014.10f}'.format(w[1]))\n",
    "print('Dz  =','{0: >#014.10f}'.format(w[2]))\n",
    "print('D   =','{0: >#014.10f}'.format((w[0]+w[1]+w[2])/3))\n",
    "print('-----------------------')\n",
    "print('Dx  =','{0: >#014.10f}'.format(dxx))\n",
    "print('Dy  =','{0: >#014.10f}'.format(dyy))\n",
    "print('Dz  =','{0: >#014.10f}'.format(dzz))\n",
    "print('D   =','{0: >#014.10f}'.format((dxx+dyy+dzz)/3))"
   ]
  },
  {
   "cell_type": "code",
   "execution_count": null,
   "metadata": {},
   "outputs": [],
   "source": [
    "dd2d = np.array([[dxx, dxy], \n",
    "                 [dxy, dyy]])\n",
    "w2,v2=eig(dd2d)"
   ]
  },
  {
   "cell_type": "code",
   "execution_count": null,
   "metadata": {},
   "outputs": [],
   "source": [
    "print('Dx  =','{0: >#014.10f}'.format(w2[0]))\n",
    "print('Dy  =','{0: >#014.10f}'.format(w2[1]))\n",
    "print('D   =','{0: >#014.10f}'.format((w2[0]+w2[1])/2))\n",
    "print('-----------------------')\n",
    "print('Dx  =','{0: >#014.10f}'.format(dxx))\n",
    "print('Dy  =','{0: >#014.10f}'.format(dyy))\n",
    "print('D   =','{0: >#014.10f}'.format((dxx+dyy)/2))"
   ]
  },
  {
   "cell_type": "code",
   "execution_count": null,
   "metadata": {},
   "outputs": [],
   "source": []
  },
  {
   "cell_type": "code",
   "execution_count": null,
   "metadata": {},
   "outputs": [],
   "source": [
    "'''\n",
    "ndt = 100\n",
    "mmsdx = np.empty(ndt)\n",
    "mmsdy = np.empty(ndt)\n",
    "mmsdz = np.empty(ndt)\n",
    "mmsdxy = np.empty(ndt)\n",
    "mmsdxz = np.empty(ndt)\n",
    "mmsdyz = np.empty(ndt)\n",
    "dtime = np.empty(ndt)\n",
    "#dtime = [0.01,0.02,0.03,0.04,0.05,0.06,0.07,0.08,0.09,0.1,0.11,0.12,0.13,0.14,0.15,0.16,0.17,0.18,0.19,0.2]\n",
    "dtime=  np.arange(0.01, (0.01*ndt+0.01), 0.01)\n",
    "\n",
    "kk = 0\n",
    "while kk<ndt:\n",
    "    mmsdx[kk] = 0.0\n",
    "    mmsdy[kk] = 0.0\n",
    "    mmsdz[kk] = 0.0\n",
    "    mmsdxy[kk] = 0.0\n",
    "    mmsdxz[kk] = 0.0\n",
    "    mmsdyz[kk] = 0.0\n",
    "    jj = 0\n",
    "    while jj< (len(x_o)-1-kk):\n",
    "        mmsdx[kk] = (x_o[jj+kk+1]-x_o[jj])**2+mmsdx[kk]\n",
    "        mmsdy[kk] = (y_o[jj+kk+1]-y_o[jj])**2+mmsdy[kk]\n",
    "        mmsdz[kk] = (z_o[jj+kk+1]-z_o[jj])**2+mmsdz[kk]\n",
    "        mmsdxy[kk] = ((x_o[jj+kk+1]-x_o[jj])*(y_o[jj+kk+1]-y_o[jj]))+mmsdxy[kk]\n",
    "        mmsdxz[kk] = ((x_o[jj+kk+1]-x_o[jj])*(z_o[jj+kk+1]-z_o[jj]))+mmsdxz[kk]\n",
    "        mmsdyz[kk] = ((y_o[jj+kk+1]-y_o[jj])*(z_o[jj+kk+1]-z_o[jj]))+mmsdyz[kk]\n",
    "        jj = jj+1\n",
    "    mmsdx[kk] = mmsdx[kk]/(len(x_o)-1-kk)\n",
    "    mmsdy[kk] = mmsdy[kk]/(len(x_o)-1-kk)\n",
    "    mmsdz[kk] = mmsdz[kk]/(len(x_o)-1-kk)\n",
    "    mmsdxy[kk] = mmsdxy[kk]/(len(x_o)-1-kk)\n",
    "    mmsdxz[kk] = mmsdxz[kk]/(len(x_o)-1-kk)\n",
    "    mmsdyz[kk] = mmsdyz[kk]/(len(x_o)-1-kk)\n",
    "    kk = kk+1\n",
    "\n",
    "'''"
   ]
  },
  {
   "cell_type": "code",
   "execution_count": null,
   "metadata": {},
   "outputs": [],
   "source": [
    "ndt = 50\n",
    "mmsdx = np.empty(ndt)\n",
    "mmsdy = np.empty(ndt)\n",
    "mmsdz = np.empty(ndt)\n",
    "mmsdxy = np.empty(ndt)\n",
    "mmsdxz = np.empty(ndt)\n",
    "mmsdyz = np.empty(ndt)\n",
    "dtime = np.empty(ndt)\n",
    "#dtime = [0.01,0.02,0.03,0.04,0.05,0.06,0.07,0.08,0.09,0.1,0.11,0.12,0.13,0.14,0.15,0.16,0.17,0.18,0.19,0.2]\n",
    "dtime=  np.arange(0.01, (0.01*ndt+0.01), 0.01)\n",
    "\n",
    "        \n",
    "kk = 0\n",
    "while kk<ndt:\n",
    "    mmsdx[kk] = 0.0\n",
    "    mmsdy[kk] = 0.0\n",
    "    mmsdz[kk] = 0.0\n",
    "    mmsdxy[kk] = 0.0\n",
    "    mmsdxz[kk] = 0.0\n",
    "    mmsdyz[kk] = 0.0\n",
    "    x_oo = x_o[::(kk+1)]\n",
    "    y_oo = y_o[::(kk+1)]\n",
    "    z_oo = z_o[::(kk+1)]\n",
    "    \n",
    "    jj = 0\n",
    "    while jj< (len(x_oo)-1):\n",
    "        mmsdx[kk] = (x_oo[jj+1]-x_oo[jj])**2+mmsdx[kk]\n",
    "        mmsdy[kk] = (y_oo[jj+1]-y_oo[jj])**2+mmsdy[kk]\n",
    "        mmsdz[kk] = (z_oo[jj+1]-z_oo[jj])**2+mmsdz[kk]\n",
    "        mmsdxy[kk] = ((x_oo[jj+1]-x_oo[jj])*(y_oo[jj+1]-y_oo[jj]))+mmsdxy[kk]\n",
    "        mmsdxz[kk] = ((x_oo[jj+1]-x_oo[jj])*(z_oo[jj+1]-z_oo[jj]))+mmsdxz[kk]\n",
    "        mmsdyz[kk] = ((y_oo[jj+1]-y_oo[jj])*(z_oo[jj+1]-z_oo[jj]))+mmsdyz[kk]\n",
    "        jj = jj+1\n",
    "    mmsdx[kk] = mmsdx[kk]/(len(x_oo)-1)\n",
    "    mmsdy[kk] = mmsdy[kk]/(len(x_oo)-1)\n",
    "    mmsdz[kk] = mmsdz[kk]/(len(x_oo)-1)\n",
    "    mmsdxy[kk] = mmsdxy[kk]/(len(x_oo)-1)\n",
    "    mmsdxz[kk] = mmsdxz[kk]/(len(x_oo)-1)\n",
    "    mmsdyz[kk] = mmsdyz[kk]/(len(x_oo)-1)\n",
    "    kk = kk+1\n",
    "\n"
   ]
  },
  {
   "cell_type": "code",
   "execution_count": null,
   "metadata": {},
   "outputs": [],
   "source": [
    "fitx=np.polyfit(dtime[:],mmsdx[:],1)\n",
    "fity=np.polyfit(dtime[:],mmsdy[:],1)\n",
    "fitz=np.polyfit(dtime[:],mmsdz[:],1)\n",
    "fitxy=np.polyfit(dtime[:],mmsdxy[st:nd],1)\n",
    "fitxz=np.polyfit(dtime[:],mmsdxz[st:nd],1)\n",
    "fityz=np.polyfit(dtime[:],mmsdyz[st:nd],1)"
   ]
  },
  {
   "cell_type": "code",
   "execution_count": null,
   "metadata": {},
   "outputs": [],
   "source": [
    "dxx = fitx[0]/2\n",
    "dyy = fity[0]/2\n",
    "dzz = fitz[0]/2\n",
    "dxy = fitxy[0]/2\n",
    "dxz = fitxz[0]/2\n",
    "dyz = fityz[0]/2"
   ]
  },
  {
   "cell_type": "code",
   "execution_count": null,
   "metadata": {},
   "outputs": [],
   "source": [
    "dd3d = np.array([[dxx, dxy, dxz], \n",
    "                 [dxy, dyy, dyz],\n",
    "                 [dxz, dyz, dzz]])\n",
    "w,v=eig(dd3d)\n",
    "\n",
    "print('E-value:', w)\n",
    "print('E-vector', v)\n",
    "print('mamtrix', dd3d)"
   ]
  },
  {
   "cell_type": "code",
   "execution_count": null,
   "metadata": {},
   "outputs": [],
   "source": [
    "print('Dx  =','{0: >#014.10f}'.format(w[0]))\n",
    "print('Dy  =','{0: >#014.10f}'.format(w[1]))\n",
    "print('Dz  =','{0: >#014.10f}'.format(w[2]))\n",
    "print('D   =','{0: >#014.10f}'.format((w[0]+w[1]+w[2])/3))\n",
    "print('-----------------------')\n",
    "print('Dx  =','{0: >#014.10f}'.format(dxx))\n",
    "print('Dy  =','{0: >#014.10f}'.format(dyy))\n",
    "print('Dz  =','{0: >#014.10f}'.format(dzz))\n",
    "print('D   =','{0: >#014.10f}'.format((dxx+dyy+dzz)/3))"
   ]
  },
  {
   "cell_type": "code",
   "execution_count": null,
   "metadata": {},
   "outputs": [],
   "source": [
    "dd2d = np.array([[dxx, dxy], \n",
    "                 [dxy, dyy]])\n",
    "w2,v2=eig(dd2d)\n",
    "\n",
    "print('Dx  =','{0: >#014.10f}'.format(w2[0]))\n",
    "print('Dy  =','{0: >#014.10f}'.format(w2[1]))\n",
    "print('D   =','{0: >#014.10f}'.format((w2[0]+w2[1])/2))\n",
    "print('-----------------------')\n",
    "print('Dx  =','{0: >#014.10f}'.format(dxx))\n",
    "print('Dy  =','{0: >#014.10f}'.format(dyy))\n",
    "print('D   =','{0: >#014.10f}'.format((dxx+dyy)/2))"
   ]
  },
  {
   "cell_type": "code",
   "execution_count": null,
   "metadata": {},
   "outputs": [],
   "source": [
    "plt.figure()\n",
    "plt.plot(dtime[:],mmsdx[:])\n",
    "plt.plot(dtime[:],mmsdy[:])\n",
    "plt.plot(dtime[:],mmsdz[:])\n",
    "\n",
    "plt.figure()\n",
    "plt.plot(dtime[:],mmsdx[:])\n",
    "plt.figure()\n",
    "plt.plot(dtime[:],mmsdy[:])\n",
    "plt.figure()\n",
    "plt.plot(dtime[:],mmsdz[:])"
   ]
  },
  {
   "cell_type": "code",
   "execution_count": null,
   "metadata": {},
   "outputs": [],
   "source": [
    "len(x_o)"
   ]
  },
  {
   "cell_type": "code",
   "execution_count": null,
   "metadata": {},
   "outputs": [],
   "source": [
    "plt.figure()\n",
    "plt.plot(dtime[:],mmsdx[:],color='r',linewidth=2,label=\"x\")\n",
    "plt.plot(dtime[:],mmsdy[:],color='g',linewidth=2,label=\"y\")\n",
    "plt.plot(dtime[:],mmsdz[:],color='b',linewidth=2,label=\"z\")\n",
    "#plt.plot(dtime[:],pred_msdx[:],'--',color='r',linewidth=2)\n",
    "\n",
    "plt.legend(loc=\"upper left\")\n",
    "plt.xlabel('τ (ps)')\n",
    "plt.ylabel('MSD')\n",
    "plt.tick_params(axis=\"x\",which='major', direction=\"in\", length=5, width=0.5)\n",
    "plt.tick_params(axis=\"y\",which='major',direction=\"in\", length=5, width=0.5)\n",
    "plt.tick_params(axis=\"x\",which='minor', direction=\"in\", length=5, width=0.5)\n",
    "plt.tick_params(axis=\"y\",which='minor',direction=\"in\", length=5, width=0.5)\n",
    "plt.grid(which='major',color='#CCCCCC', linestyle='--', linewidth=0.5)\n",
    "plt.ticklabel_format(axis=\"x\", style=\"plain\", scilimits=(0,0),useMathText=True)\n",
    "plt.tick_params(bottom=True, top=True, left=True, right=True)\n",
    "#plt.savefig(path +'/msd.jpg', dpi=400)"
   ]
  },
  {
   "cell_type": "code",
   "execution_count": null,
   "metadata": {},
   "outputs": [],
   "source": [
    "time[2]"
   ]
  },
  {
   "cell_type": "code",
   "execution_count": null,
   "metadata": {},
   "outputs": [],
   "source": [
    "dtime[1]"
   ]
  },
  {
   "cell_type": "code",
   "execution_count": null,
   "metadata": {},
   "outputs": [],
   "source": [
    "0.8182419897/0.4254597164"
   ]
  },
  {
   "cell_type": "code",
   "execution_count": null,
   "metadata": {},
   "outputs": [],
   "source": []
  }
 ],
 "metadata": {
  "kernelspec": {
   "display_name": "Python 3 (ipykernel)",
   "language": "python",
   "name": "python3"
  },
  "language_info": {
   "codemirror_mode": {
    "name": "ipython",
    "version": 3
   },
   "file_extension": ".py",
   "mimetype": "text/x-python",
   "name": "python",
   "nbconvert_exporter": "python",
   "pygments_lexer": "ipython3",
   "version": "3.11.9"
  }
 },
 "nbformat": 4,
 "nbformat_minor": 4
}
