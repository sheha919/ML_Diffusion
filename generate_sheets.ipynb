{
 "cells": [
  {
   "cell_type": "markdown",
   "id": "dc0cef71-2d9f-4549-882a-f4fc7699bb5b",
   "metadata": {},
   "source": [
    "# Generation of Graphene sheets\n",
    "## This code is use to generate extended or trimed graphene sheet from the original one"
   ]
  },
  {
   "cell_type": "code",
   "execution_count": 1,
   "id": "3e6732d1-325f-49ab-8ada-50b822e54862",
   "metadata": {},
   "outputs": [],
   "source": [
    "import os\n",
    "import numpy as np"
   ]
  },
  {
   "cell_type": "code",
   "execution_count": 2,
   "id": "c9966a97-2815-4a40-a1d4-a97d7e32dab1",
   "metadata": {},
   "outputs": [],
   "source": [
    "file = os.path.join(\"test_sheet.xyz\")"
   ]
  },
  {
   "cell_type": "code",
   "execution_count": 3,
   "id": "d77aff8b-0317-4a64-9be4-44b025d682b0",
   "metadata": {},
   "outputs": [],
   "source": [
    "atom= []\n",
    "x=[]\n",
    "y=[]\n",
    "z= []\n",
    "with open(file, 'r') as file:\n",
    "    xyz= file.readlines()\n",
    "    for indx,line in enumerate(xyz):\n",
    "        atom.append(str(line.split()[0]))\n",
    "        x.append(float(line.split()[1]))\n",
    "        y.append(float(line.split()[2]))\n",
    "        z.append(float(line.split()[3]))"
   ]
  },
  {
   "cell_type": "code",
   "execution_count": 4,
   "id": "b1d4b004-22aa-4f21-b78b-97577cf35e76",
   "metadata": {},
   "outputs": [],
   "source": [
    "#d is shifting distance\n",
    "d= 7.76032 \n",
    "with open(os.path.join(\"new_sheet.xyz\"), 'w') as new_file:\n",
    "    #for IQmol\n",
    "    new_file.write(str(len(atom)*4)+\"\\n\"+\"\\n\")\n",
    "    #layer 1\n",
    "    for i in range(len(atom)):\n",
    "        new_file.write(atom[i] + \" \" + str(x[i]) + \" \" + str(y[i]) + \" \" + str(z[i])+\"\\n\")\n",
    "    for i in range(len(atom)):\n",
    "        new_file.write(atom[i] + \" \" + str(round((x[i]+d),6)) + \" \" + str(y[i]) + \" \" + str(z[i])+\"\\n\")\n",
    "    #layer 2\n",
    "    for i in range(len(atom)):\n",
    "        new_file.write(atom[i] + \" \" + str(x[i]) + \" \" + str(y[i]) + \" \" + str(round((z[i]+10),6))+\"\\n\")\n",
    "    for i in range(len(atom)):\n",
    "        new_file.write(atom[i] + \" \" + str(round((x[i]+7.76032),6)) + \" \" + str(y[i]) + \" \" + str(round((z[i]+10),6))+\"\\n\")"
   ]
  },
  {
   "cell_type": "code",
   "execution_count": null,
   "id": "a9dc98d8-e9ba-4584-b82a-4163985bfab9",
   "metadata": {},
   "outputs": [],
   "source": []
  }
 ],
 "metadata": {
  "kernelspec": {
   "display_name": "Python 3 (ipykernel)",
   "language": "python",
   "name": "python3"
  },
  "language_info": {
   "codemirror_mode": {
    "name": "ipython",
    "version": 3
   },
   "file_extension": ".py",
   "mimetype": "text/x-python",
   "name": "python",
   "nbconvert_exporter": "python",
   "pygments_lexer": "ipython3",
   "version": "3.11.9"
  }
 },
 "nbformat": 4,
 "nbformat_minor": 5
}
