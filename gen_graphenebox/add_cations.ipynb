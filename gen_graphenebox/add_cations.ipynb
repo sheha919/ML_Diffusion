{
 "cells": [
  {
   "cell_type": "code",
   "execution_count": 1,
   "id": "3e6732d1-325f-49ab-8ada-50b822e54862",
   "metadata": {},
   "outputs": [],
   "source": [
    "import os\n",
    "import numpy as np\n",
    "import math"
   ]
  },
  {
   "cell_type": "code",
   "execution_count": 2,
   "id": "c9966a97-2815-4a40-a1d4-a97d7e32dab1",
   "metadata": {},
   "outputs": [],
   "source": [
    "cat_file = os.path.join(\"c2meth_opt.xyz\")\n",
    "graphene = os.path.join(\"graphene_box1_centered.xyz\")"
   ]
  },
  {
   "cell_type": "code",
   "execution_count": 3,
   "id": "d77aff8b-0317-4a64-9be4-44b025d682b0",
   "metadata": {},
   "outputs": [],
   "source": [
    "def extract_xyz(file):\n",
    "    atom= []\n",
    "    x=[]\n",
    "    y=[]\n",
    "    z= []\n",
    "    with open(file, 'r') as file:\n",
    "        xyz= file.readlines()[2:]\n",
    "        for indx,line in enumerate(xyz):\n",
    "            atom.append(str(line.split()[0]))\n",
    "            x.append(float(line.split()[1]))\n",
    "            y.append(float(line.split()[2]))\n",
    "            z.append(float(line.split()[3]))\n",
    "    return (atom, x, y, z)"
   ]
  },
  {
   "cell_type": "code",
   "execution_count": 4,
   "id": "4c18bd53-f395-4c99-9793-146978842be4",
   "metadata": {},
   "outputs": [],
   "source": [
    "cat_atom, cat_x, cat_y, cat_z = extract_xyz(cat_file)\n",
    "gr_atom, gr_x, gr_y, gr_z = extract_xyz(graphene)"
   ]
  },
  {
   "cell_type": "code",
   "execution_count": 5,
   "id": "ee616eb8-4011-49e5-9361-4fce1e4fefe0",
   "metadata": {},
   "outputs": [],
   "source": [
    "d= 1.571\n",
    "#box3\n",
    "#c_id =[785,915]\n",
    "#h_id =[789,923]\n",
    "#box1\n",
    "c_id =[244]\n",
    "h_id =[247]\n",
    "\n",
    "new_atom = []\n",
    "new_x = []\n",
    "new_y = []\n",
    "new_z = []\n",
    "for i in range(len(c_id)):\n",
    "    c = (c_id[i])\n",
    "    for j in range(len(cat_atom)):\n",
    "        new_atom.append(cat_atom[j])\n",
    "        new_x.append(cat_x[j] + gr_x[c-1])\n",
    "        new_y.append(cat_y[j] + gr_y[c-1])\n",
    "        new_z.append(cat_z[j] + gr_z[c-1] - d)"
   ]
  },
  {
   "cell_type": "code",
   "execution_count": 6,
   "id": "df3c2c0c-c725-4a08-89a4-730c4c79c677",
   "metadata": {},
   "outputs": [],
   "source": [
    "with open(os.path.join(\"c2_nmeth_cat_box1.xyz\"), 'w') as new_file:\n",
    "    #for IQmol\n",
    "    new_file.write(str(len(gr_atom)-2+ len(new_atom))+\"\\n\"+\"\\n\")\n",
    "    for i in range(len(gr_atom)):\n",
    "        if (i+1) not in h_id:\n",
    "            new_file.write(gr_atom[i] + \" \" + str(gr_x[i]) + \" \" + str(gr_y[i]) + \" \" + str(gr_z[i])+\"\\n\")\n",
    "        else:\n",
    "            pass\n",
    "\n",
    "    for i in range(len(new_atom)):\n",
    "        new_file.write(new_atom[i] + \" \" + f\"{new_x[i]:.5f}\" + \" \" + f\"{new_y[i]:.5f}\" + \" \" + f\"{new_z[i]:.5f}\" +\"\\n\")\n",
    "        \n",
    "            \n"
   ]
  },
  {
   "cell_type": "code",
   "execution_count": null,
   "id": "0ed0d050-757f-450c-b9e2-9c25bdaff280",
   "metadata": {},
   "outputs": [],
   "source": []
  }
 ],
 "metadata": {
  "kernelspec": {
   "display_name": "Python 3 (ipykernel)",
   "language": "python",
   "name": "python3"
  },
  "language_info": {
   "codemirror_mode": {
    "name": "ipython",
    "version": 3
   },
   "file_extension": ".py",
   "mimetype": "text/x-python",
   "name": "python",
   "nbconvert_exporter": "python",
   "pygments_lexer": "ipython3",
   "version": "3.11.9"
  }
 },
 "nbformat": 4,
 "nbformat_minor": 5
}
