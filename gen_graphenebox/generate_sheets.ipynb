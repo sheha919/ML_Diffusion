{
 "cells": [
  {
   "cell_type": "markdown",
   "id": "dc0cef71-2d9f-4549-882a-f4fc7699bb5b",
   "metadata": {},
   "source": [
    "# Generation of Graphene sheets\n",
    "## This code is use to generate extended or trimed graphene sheet from the original one"
   ]
  },
  {
   "cell_type": "code",
   "execution_count": 1,
   "id": "3e6732d1-325f-49ab-8ada-50b822e54862",
   "metadata": {},
   "outputs": [],
   "source": [
    "import os\n",
    "import numpy as np"
   ]
  },
  {
   "cell_type": "code",
   "execution_count": 2,
   "id": "a9dc98d8-e9ba-4584-b82a-4163985bfab9",
   "metadata": {},
   "outputs": [],
   "source": [
    "def extended_graphene (file_name,out_file,nx, ny, dz, ncat, rho_n, periodic):\n",
    "    #the original graphene sheet has 2.5 carbon rings through x axis, 3 carbon rings through y axis\n",
    "    #nx = number of times extending through x axis \n",
    "    #ny = number of times extending through y axis \n",
    "    #dz = distance between two sheets through z-axis\n",
    "    #rho_n = water number density in 1000 cubic Angstroms \n",
    "    #to have original sheet nx=ny=0\n",
    "    \n",
    "    file = os.path.join(f\"{file_name}.xyz\")\n",
    "\n",
    "    atom= []\n",
    "    x=[]\n",
    "    y=[]\n",
    "    z= []\n",
    "    with open(file, 'r') as file:\n",
    "        xyz= file.readlines()[2:]\n",
    "        for indx,line in enumerate(xyz):\n",
    "            atom.append(str(line.split()[0]))\n",
    "            x.append(float(line.split()[1]))\n",
    "            y.append(float(line.split()[2]))\n",
    "            z.append(float(line.split()[3]))\n",
    "\n",
    "    #rx=2.52584 #width of the C ring through x-axis\n",
    "    rx=2.533 #mean width of the C ring through x-axis\n",
    "    ry=1.488 #C-C bond distance of graphene through y-axis\n",
    "\n",
    "    #for extending sheet\n",
    "    dx= 3*rx  #the extended sheet should start from +dx distance through x-axis compared to original.xyz\n",
    "    dy= 9*ry  #the extended sheet should start from +dy distance through y-axis compared to original.xyz\n",
    "    dz= dz  #distance between two sheets through z-axis\n",
    "\n",
    "    ddx=dx*(nx+1) #length of the extended graphene sheet in X-direction\n",
    "    ddy=dy*(ny+1) #length of the extended graphene sheet in Y-direction\n",
    "\n",
    "    #box content\n",
    "    #vC4= 101.33\n",
    "    vC6_nmeth= 192.87\n",
    "    vC4_nmeth=158.42 #cubic angstroms\n",
    "    vC2_nmeth=121.71\n",
    "    vCat=vC2_nmeth\n",
    "    vWater= 19.40\n",
    "    vH=7.24\n",
    "    nH=18\n",
    "    vOH= 17.14\n",
    "    #vCl= 23.70\n",
    "    vbox =ddx*ddy*dz\n",
    "    v_rest= vbox -ncat*(vCat+ vOH + vH*((nx+1)*(ny+1)*(2*nH-1)))\n",
    "    nwater=v_rest/vWater\n",
    "    \n",
    "    atom_new= []\n",
    "    x_new=[]\n",
    "    y_new=[]\n",
    "    z_new= []\n",
    "\n",
    "    #number of atoms in original graphene sheet\n",
    "    natom= len(atom)\n",
    "    with open(os.path.join(f\"{out_file}.xyz\"), 'w') as new_file:\n",
    "        #for IQmol\n",
    "        new_file.write(str(natom*(nx+1)*(ny+1)*2)+\"\\n\"+\"\\n\")\n",
    "        #sheet 1\n",
    "        #original sheet with extended sheet\n",
    "\n",
    "        for a in range(nx+1):  \n",
    "            for b in range(ny+1):  \n",
    "                for i in range(natom):\n",
    "                    new_file.write(atom[i] + \" \" + str(round((x[i]+(a*dx)),6)) + \" \" + str(round(y[i]+(b*dy),6)) + \" \" + str(z[i])+\"\\n\")\n",
    "                    atom_new.append(atom[i])\n",
    "                    x_new.append(round((x[i]+(a*dx)),6))\n",
    "                    y_new.append(round(y[i]+(b*dy),6))\n",
    "                    z_new.append(z[i])\n",
    "                    \n",
    "        #number of atoms in extended graphene sheet\n",
    "        exatom= len(atom_new)            \n",
    "        #sheet 2\n",
    "        for i in range(exatom):\n",
    "            new_file.write(atom_new[i] + \" \" + str(x_new[i]) + \" \" + str(y_new[i]) + \" \" + str(round(z_new[i]+(dz),6))+\"\\n\")\n",
    "            atom_new.append(atom_new[i])\n",
    "            x_new.append(x_new[i])\n",
    "            y_new.append(y_new[i])\n",
    "            z_new.append(round(z_new[i]+(dz),6))\n",
    "\n",
    "    #check with periodic boundary conditions\n",
    "    nnatom= len(atom_new) #number of atoms in extended graphene sheets\n",
    "\n",
    "\n",
    "    with open(os.path.join(f\"{periodic}.xyz\"), 'w') as new_file:\n",
    "        #for IQmol\n",
    "        new_file.write(str(nnatom*5)+\"\\n\"+\"\\n\")\n",
    "        #extended two graphene sheets\n",
    "        for i in range(nnatom):\n",
    "            new_file.write(atom_new[i] + \" \" + str(x_new[i]) + \" \" + str(y_new[i]) + \" \" + str(z_new[i])+\"\\n\")\n",
    "    \n",
    "        #periodic box(+ddx)\n",
    "        for i in range(nnatom):\n",
    "            new_file.write(atom_new[i] + \" \" + str(round((x_new[i]+ddx),6)) + \" \" + str(y_new[i]) + \" \" + str(z_new[i])+\"\\n\")\n",
    "        #periodic box(-ddx)\n",
    "        for i in range(nnatom):\n",
    "            new_file.write(atom_new[i] + \" \" + str(round((x_new[i]-ddx),6)) + \" \" + str(y_new[i]) + \" \" + str(z_new[i])+\"\\n\")\n",
    "        #periodic box(+ddy)\n",
    "        for i in range(nnatom):\n",
    "            new_file.write(atom_new[i] + \" \" + str(x_new[i]) + \" \" + str(round((y_new[i]+ddy),6)) + \" \" + str(z_new[i])+\"\\n\")\n",
    "        #periodic box(-ddy)\n",
    "        for i in range(nnatom):\n",
    "            new_file.write(atom_new[i] + \" \" + str(x_new[i]) + \" \" + str(round((y_new[i]-ddy),6)) + \" \" + str(z_new[i])+\"\\n\")\n",
    "\n",
    "    print('Number of the atoms in two graphene sheets:', (natom*(nx+1)*(ny+1)*2))\n",
    "    print('Length of the box through X axis:', ddx, 'Angstroms')\n",
    "    print('Length of the box through Y axis:', ddy, 'Angstroms')\n",
    "    print('Length of the box through Z axis:', dz, 'Angstroms')\n",
    "    print('Volume of the box:', vbox, 'Cubic Angstroms')\n",
    "    print('Volume of the box without ions and Hs:', v_rest, 'Cubic Angstroms')\n",
    "    print('Maximum number of water molecules fit in the box:', int(nwater))\n",
    "\n",
    "    #bulk water number density could be fall in between 7.9-33.4 water molecules in 1000 cubic Angstroms\n",
    "    \n",
    "    print(f'Number of water molecules should have in the box to have {rho_n}/1000 cubic Angstroms:', int(v_rest/1000*rho_n))\n",
    "    #print('Minimum number density of water in 1000 Cubic Angstroms:', float(int(v_rest/1000*rho_n))/v_rest*1000)\n",
    "    \n",
    "    #print('Maximum number of water molecules in the box according to the bulk water:', int(v_rest/1000*31.7))\n",
    "    #print('Maximum number density of water in 1000 Cubic Angstroms:', float(int(v_rest/1000*31.7))/v_rest*1000)\n"
   ]
  },
  {
   "cell_type": "code",
   "execution_count": 3,
   "id": "037208b5-45a9-4e6c-9f12-454319eb6c1d",
   "metadata": {},
   "outputs": [
    {
     "name": "stdout",
     "output_type": "stream",
     "text": [
      "Number of the atoms in two graphene sheets: 1152\n",
      "Length of the box through X axis: 30.396 Angstroms\n",
      "Length of the box through Y axis: 26.784 Angstroms\n",
      "Length of the box through Z axis: 15 Angstroms\n",
      "Volume of the box: 12211.896959999998 Cubic Angstroms\n",
      "Volume of the box without ions and Hs: 7879.796959999998 Cubic Angstroms\n",
      "Maximum number of water molecules fit in the box: 406\n",
      "Number of water molecules should have in the box to have 10/1000 cubic Angstroms: 78\n"
     ]
    }
   ],
   "source": [
    "extended_graphene('original', 'graphene_box3', 3,1, 15, 2, 10, 'periodic_box3')"
   ]
  },
  {
   "cell_type": "code",
   "execution_count": 4,
   "id": "1667483f-f70d-4e5c-8ad6-75ec5d016e1c",
   "metadata": {},
   "outputs": [
    {
     "name": "stdout",
     "output_type": "stream",
     "text": [
      "Number of the atoms in two graphene sheets: 432\n",
      "Length of the box through X axis: 22.797 Angstroms\n",
      "Length of the box through Y axis: 13.392 Angstroms\n",
      "Length of the box through Z axis: 15 Angstroms\n",
      "Volume of the box: 4579.461359999999 Cubic Angstroms\n",
      "Volume of the box without ions and Hs: 2781.361359999999 Cubic Angstroms\n",
      "Maximum number of water molecules fit in the box: 143\n",
      "Number of water molecules should have in the box to have 10/1000 cubic Angstroms: 27\n"
     ]
    }
   ],
   "source": [
    "extended_graphene('original', 'graphene_box2', 2,0, 15, 2, 10, 'periodic_box2')"
   ]
  },
  {
   "cell_type": "code",
   "execution_count": 10,
   "id": "4b85fad7-eb4c-4d23-8520-a78b0f738081",
   "metadata": {},
   "outputs": [
    {
     "name": "stdout",
     "output_type": "stream",
     "text": [
      "Number of the atoms in two graphene sheets: 288\n",
      "Length of the box through X axis: 15.198 Angstroms\n",
      "Length of the box through Y axis: 13.392 Angstroms\n",
      "Length of the box through Z axis: 15 Angstroms\n",
      "Volume of the box: 3052.9742399999996 Cubic Angstroms\n",
      "Volume of the box without ions and Hs: 2407.3242399999995 Cubic Angstroms\n",
      "Maximum number of water molecules fit in the box: 124\n",
      "Number of water molecules should have in the box to have 10/1000 cubic Angstroms: 24\n"
     ]
    }
   ],
   "source": [
    "extended_graphene('original', 'graphene_box1', 1,0, 15, 1, 10,'periodic_box_1')"
   ]
  },
  {
   "cell_type": "code",
   "execution_count": null,
   "id": "caa999ee-7c1c-445e-bbb2-d82b5fcb2d9a",
   "metadata": {},
   "outputs": [],
   "source": []
  },
  {
   "cell_type": "code",
   "execution_count": null,
   "id": "2dea842f-07db-44f6-b5c3-35df750e779c",
   "metadata": {},
   "outputs": [],
   "source": []
  }
 ],
 "metadata": {
  "kernelspec": {
   "display_name": "Python 3 (ipykernel)",
   "language": "python",
   "name": "python3"
  },
  "language_info": {
   "codemirror_mode": {
    "name": "ipython",
    "version": 3
   },
   "file_extension": ".py",
   "mimetype": "text/x-python",
   "name": "python",
   "nbconvert_exporter": "python",
   "pygments_lexer": "ipython3",
   "version": "3.11.9"
  }
 },
 "nbformat": 4,
 "nbformat_minor": 5
}
