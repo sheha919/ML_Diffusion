{
 "cells": [
  {
   "cell_type": "code",
   "execution_count": null,
   "metadata": {},
   "outputs": [],
   "source": []
  },
  {
   "cell_type": "code",
   "execution_count": 1,
   "metadata": {},
   "outputs": [],
   "source": [
    "import numpy as np\n",
    "import math\n",
    "import matplotlib.pyplot as plt\n",
    "import matplotlib.ticker as mtick\n",
    "from numpy.linalg import eig"
   ]
  },
  {
   "cell_type": "code",
   "execution_count": 2,
   "metadata": {},
   "outputs": [],
   "source": [
    "path = \"C:/Users/Sachith/Desktop/work_oh/bulk_water/MD1\""
   ]
  },
  {
   "cell_type": "code",
   "execution_count": 3,
   "metadata": {},
   "outputs": [
    {
     "name": "stdout",
     "output_type": "stream",
     "text": [
      "nsteps:    20000\n",
      "natoms:    654\n",
      "nonmvat:    432\n",
      "nmovingatoms:    222\n",
      "MDRestartFrequency:    1\n",
      "dt:    1.0\n",
      "noh:    0\n",
      "nwater:    74\n",
      "nox:    74\n",
      "nhy:    148\n",
      "xbox:    22.784\n",
      "ybox:    13.3552\n",
      "zbox:    40.0\n"
     ]
    }
   ],
   "source": [
    "f=open(path +'/input_data.dat','r')\n",
    "lines=f.readlines()\n",
    "for line in lines[0:]:\n",
    "    data=line.split()\n",
    "    if data[0]=='nsteps:':\n",
    "        nsteps = int(data[1])\n",
    "    if data[0]=='natoms:':\n",
    "        natoms = int(data[1])\n",
    "    if data[0]=='nonmvat:':\n",
    "        nonmvat = int(data[1])\n",
    "    if data[0]=='nmovingatoms:':\n",
    "        nmovingatoms = int(data[1])\n",
    "    if data[0]=='MDRestartFrequency:':\n",
    "        MDRestartFrequency = int(data[1])\n",
    "    if data[0]=='dt:':\n",
    "        dt = float(data[1])\n",
    "    if data[0]=='noh:':\n",
    "        noh = int(data[1])\n",
    "    if data[0]=='nwater:':\n",
    "        nwater = int(data[1])\n",
    "    if data[0]=='nox:':\n",
    "        nox = int(data[1])\n",
    "    if data[0]=='nhy:':\n",
    "        nhy = int(data[1])\n",
    "    if data[0]=='xbox:':\n",
    "        xbox = float(data[1])\n",
    "    if data[0]=='ybox:':\n",
    "        ybox = float(data[1])\n",
    "    if data[0]=='zbox:':\n",
    "        zbox = float(data[1])\n",
    "        \n",
    "nsteps = int((nsteps/MDRestartFrequency)+1)-1\n",
    "nstep = nsteps\n",
    "        \n",
    "print('nsteps:','  ',nstep )\n",
    "print('natoms:','  ',natoms)\n",
    "print('nonmvat:','  ',nonmvat)\n",
    "print('nmovingatoms:','  ',nmovingatoms)\n",
    "print('MDRestartFrequency:','  ',MDRestartFrequency)\n",
    "print('dt:','  ',dt)\n",
    "print('noh:','  ',noh)\n",
    "print('nwater:','  ',nwater)\n",
    "print('nox:','  ',nox)\n",
    "print('nhy:','  ',nhy)\n",
    "print('xbox:','  ',xbox)\n",
    "print('ybox:','  ',ybox)\n",
    "print('zbox:','  ',zbox)"
   ]
  },
  {
   "cell_type": "code",
   "execution_count": 4,
   "metadata": {},
   "outputs": [
    {
     "name": "stdout",
     "output_type": "stream",
     "text": [
      "[433 436 439 442 445 448 451 454 457 460 463 466 469 472 475 478 481 484\n",
      " 487 490 493 496 499 502 505 508 511 514 517 520 523 526 529 532 535 538\n",
      " 541 544 547 550 553 556 559 562 565 568 571 574 577 580 583 586 589 592\n",
      " 595 598 601 604 607 610 613 616 619 622 625 628 631 634 637 640 643 646\n",
      " 649 652]\n",
      "[434 435 437 438 440 441 443 444 446 447 449 450 452 453 455 456 458 459\n",
      " 461 462 464 465 467 468 470 471 473 474 476 477 479 480 482 483 485 486\n",
      " 488 489 491 492 494 495 497 498 500 501 503 504 506 507 509 510 512 513\n",
      " 515 516 518 519 521 522 524 525 527 528 530 531 533 534 536 537 539 540\n",
      " 542 543 545 546 548 549 551 552 554 555 557 558 560 561 563 564 566 567\n",
      " 569 570 572 573 575 576 578 579 581 582 584 585 587 588 590 591 593 594\n",
      " 596 597 599 600 602 603 605 606 608 609 611 612 614 615 617 618 620 621\n",
      " 623 624 626 627 629 630 632 633 635 636 638 639 641 642 644 645 647 648\n",
      " 650 651 653 654]\n"
     ]
    }
   ],
   "source": [
    "ox = np.empty(nox,dtype=int)\n",
    "hy = np.empty(nhy+1,dtype=int)\n",
    "\n",
    "mm = 0\n",
    "nn = 1\n",
    "while mm<(nox):\n",
    "    ox[mm] = nn+nonmvat\n",
    "    mm = mm+1\n",
    "    nn = nn+3\n",
    "\n",
    "mm = 0\n",
    "nn =1\n",
    "while mm<(nhy):\n",
    "    hy[mm] = nn+nonmvat+1\n",
    "    hy[mm+1] = nn+nonmvat+2\n",
    "    mm = mm+2\n",
    "    nn = nn+3\n",
    "hy = hy[:-1]\n",
    "\n",
    "print(ox)\n",
    "print(hy)"
   ]
  },
  {
   "cell_type": "code",
   "execution_count": 5,
   "metadata": {},
   "outputs": [],
   "source": [
    "msd_of_oh = np.empty(nstep)\n",
    "msd_of_ohx = np.empty(nstep)\n",
    "msd_of_ohy = np.empty(nstep)\n",
    "msd_of_ohz = np.empty(nstep)\n",
    "oh_index = np.empty(nstep)\n",
    "xoh = np.empty(nstep)\n",
    "yoh = np.empty(nstep)\n",
    "zoh = np.empty(nstep)\n",
    "atom= ['Non']*(natoms)\n",
    "x_ox = np.empty(nstep*nox).reshape(nox,nstep)\n",
    "y_ox = np.empty(nstep*nox).reshape(nox,nstep)\n",
    "z_ox = np.empty(nstep*nox).reshape(nox,nstep)\n",
    "\n",
    "x_hy = np.empty(nstep*nhy).reshape(nhy,nstep)\n",
    "y_hy = np.empty(nstep*nhy).reshape(nhy,nstep)\n",
    "z_hy = np.empty(nstep*nhy).reshape(nhy,nstep)"
   ]
  },
  {
   "cell_type": "code",
   "execution_count": 6,
   "metadata": {},
   "outputs": [],
   "source": [
    "jj=0\n",
    "kk=0\n",
    "f=open(path +'/geo_end.xyz','r')\n",
    "lines=f.readlines()\n",
    "while jj < nstep:\n",
    "    io=0\n",
    "    ih=0\n",
    "    for line in lines[kk+nonmvat+2:(kk+natoms+2)]:\n",
    "        data=line.split()\n",
    "        if len(data)>3:\n",
    "            if data[0]=='O':\n",
    "                x_ox[io][jj]=float(data[1])\n",
    "                y_ox[io][jj]=float(data[2])\n",
    "                z_ox[io][jj]=float(data[3])\n",
    "                io = io+1\n",
    "            elif data[0]=='H':\n",
    "                x_hy[ih][jj]=float(data[1])\n",
    "                y_hy[ih][jj]=float(data[2])\n",
    "                z_hy[ih][jj]=float(data[3])\n",
    "                ih = ih+1\n",
    "    kk=kk+natoms+2\n",
    "    jj=jj+1\n",
    "f.close()"
   ]
  },
  {
   "cell_type": "code",
   "execution_count": 7,
   "metadata": {},
   "outputs": [],
   "source": [
    "nrep = 24\n",
    "nsteps = 1000\n",
    "aa = [24,42,49,63,18,22,5,25,69,26,20,10,71,1,39,68,51,8,19,55,64,9,60,52]\n",
    "x_o = np.empty(nsteps*nrep).reshape(nrep,nsteps)\n",
    "y_o = np.empty(nsteps*nrep).reshape(nrep,nsteps)\n",
    "z_o = np.empty(nsteps*nrep).reshape(nrep,nsteps)"
   ]
  },
  {
   "cell_type": "code",
   "execution_count": 8,
   "metadata": {},
   "outputs": [],
   "source": [
    "kk = 0\n",
    "while (kk<nrep):\n",
    "    jj = 0\n",
    "    while (jj<1000):\n",
    "        x_o[kk][jj] = x_ox[aa[kk]][jj*10]\n",
    "        y_o[kk][jj] = y_ox[aa[kk]][jj*10]\n",
    "        z_o[kk][jj] = z_ox[aa[kk]][jj*10]\n",
    "        jj = jj+1\n",
    "    kk = kk+10\n"
   ]
  },
  {
   "cell_type": "code",
   "execution_count": 9,
   "metadata": {},
   "outputs": [
    {
     "data": {
      "text/plain": [
       "'\\nndt = 100\\nmmsdx = np.empty(ndt)\\nmmsdy = np.empty(ndt)\\nmmsdz = np.empty(ndt)\\nmmsdxy = np.empty(ndt)\\nmmsdxz = np.empty(ndt)\\nmmsdyz = np.empty(ndt)\\ndtime = np.empty(ndt)\\ndtime=  np.arange(0.01, (0.01*ndt+0.01), 0.01)\\n\\n\\nkk = 0\\nwhile kk<ndt:\\n    mmsdx[kk] = 0.0\\n    mmsdy[kk] = 0.0\\n    mmsdz[kk] = 0.0\\n    mmsdxy[kk] = 0.0\\n    mmsdxz[kk] = 0.0\\n    mmsdyz[kk] = 0.0\\n    jj = 0\\n    while jj< (nsteps-1-kk):\\n        ll = 0\\n        while ll< (nrep):\\n            mmsdx[kk] = (x_o[ll,(jj+kk+1)]-x_o[ll,jj])**2+mmsdx[kk]\\n#            print(ll,jj,kk,(x_oh[ll,(jj+kk+1)]-x_oh[ll,jj])**2,mmsdx[kk])\\n            mmsdy[kk] = (y_o[ll,(jj+kk+1)]-y_o[ll,jj])**2+mmsdy[kk]\\n            mmsdz[kk] = (z_o[ll,(jj+kk+1)]-z_o[ll,jj])**2+mmsdz[kk]\\n            mmsdxy[kk] = ((x_o[ll,(jj+kk+1)]-x_o[ll,jj])*(y_o[ll,(jj+kk+1)]-y_o[ll,jj]))+mmsdxy[kk]\\n            mmsdxz[kk] = ((x_o[ll,(jj+kk+1)]-x_o[ll,jj])*(z_o[ll,(jj+kk+1)]-z_o[ll,jj]))+mmsdxz[kk]\\n            mmsdyz[kk] = ((y_o[ll,(jj+kk+1)]-y_o[ll,jj])*(z_o[ll,(jj+kk+1)]-z_o[ll,jj]))+mmsdyz[kk]\\n            ll = ll+1\\n#        mmsdx[kk] = mmsdx[kk]/nrep\\n#        mmsdy[kk] = mmsdy[kk]/nrep\\n#        mmsdz[kk] = mmsdz[kk]/nrep\\n#        mmsdxy[kk] = mmsdxy[kk]/nrep\\n#        mmsdxz[kk] = mmsdxz[kk]/nrep\\n#        mmsdyz[kk] = mmsdyz[kk]/nrep\\n        jj = jj+1\\n    mmsdx[kk] = mmsdx[kk]/((nsteps-1-kk)*nrep)\\n    mmsdy[kk] = mmsdy[kk]/((nsteps-1-kk)*nrep)\\n    mmsdz[kk] = mmsdz[kk]/((nsteps-1-kk)*nrep)\\n    mmsdxy[kk] = mmsdxy[kk]/((nsteps-1-kk)*nrep)\\n    mmsdxz[kk] = mmsdxz[kk]/((nsteps-1-kk)*nrep)\\n    mmsdyz[kk] = mmsdyz[kk]/((nsteps-1-kk)*nrep)\\n    kk = kk+1\\n    \\n'"
      ]
     },
     "execution_count": 9,
     "metadata": {},
     "output_type": "execute_result"
    }
   ],
   "source": [
    "'''\n",
    "ndt = 100\n",
    "mmsdx = np.empty(ndt)\n",
    "mmsdy = np.empty(ndt)\n",
    "mmsdz = np.empty(ndt)\n",
    "mmsdxy = np.empty(ndt)\n",
    "mmsdxz = np.empty(ndt)\n",
    "mmsdyz = np.empty(ndt)\n",
    "dtime = np.empty(ndt)\n",
    "dtime=  np.arange(0.01, (0.01*ndt+0.01), 0.01)\n",
    "\n",
    "\n",
    "kk = 0\n",
    "while kk<ndt:\n",
    "    mmsdx[kk] = 0.0\n",
    "    mmsdy[kk] = 0.0\n",
    "    mmsdz[kk] = 0.0\n",
    "    mmsdxy[kk] = 0.0\n",
    "    mmsdxz[kk] = 0.0\n",
    "    mmsdyz[kk] = 0.0\n",
    "    jj = 0\n",
    "    while jj< (nsteps-1-kk):\n",
    "        ll = 0\n",
    "        while ll< (nrep):\n",
    "            mmsdx[kk] = (x_o[ll,(jj+kk+1)]-x_o[ll,jj])**2+mmsdx[kk]\n",
    "#            print(ll,jj,kk,(x_oh[ll,(jj+kk+1)]-x_oh[ll,jj])**2,mmsdx[kk])\n",
    "            mmsdy[kk] = (y_o[ll,(jj+kk+1)]-y_o[ll,jj])**2+mmsdy[kk]\n",
    "            mmsdz[kk] = (z_o[ll,(jj+kk+1)]-z_o[ll,jj])**2+mmsdz[kk]\n",
    "            mmsdxy[kk] = ((x_o[ll,(jj+kk+1)]-x_o[ll,jj])*(y_o[ll,(jj+kk+1)]-y_o[ll,jj]))+mmsdxy[kk]\n",
    "            mmsdxz[kk] = ((x_o[ll,(jj+kk+1)]-x_o[ll,jj])*(z_o[ll,(jj+kk+1)]-z_o[ll,jj]))+mmsdxz[kk]\n",
    "            mmsdyz[kk] = ((y_o[ll,(jj+kk+1)]-y_o[ll,jj])*(z_o[ll,(jj+kk+1)]-z_o[ll,jj]))+mmsdyz[kk]\n",
    "            ll = ll+1\n",
    "#        mmsdx[kk] = mmsdx[kk]/nrep\n",
    "#        mmsdy[kk] = mmsdy[kk]/nrep\n",
    "#        mmsdz[kk] = mmsdz[kk]/nrep\n",
    "#        mmsdxy[kk] = mmsdxy[kk]/nrep\n",
    "#        mmsdxz[kk] = mmsdxz[kk]/nrep\n",
    "#        mmsdyz[kk] = mmsdyz[kk]/nrep\n",
    "        jj = jj+1\n",
    "    mmsdx[kk] = mmsdx[kk]/((nsteps-1-kk)*nrep)\n",
    "    mmsdy[kk] = mmsdy[kk]/((nsteps-1-kk)*nrep)\n",
    "    mmsdz[kk] = mmsdz[kk]/((nsteps-1-kk)*nrep)\n",
    "    mmsdxy[kk] = mmsdxy[kk]/((nsteps-1-kk)*nrep)\n",
    "    mmsdxz[kk] = mmsdxz[kk]/((nsteps-1-kk)*nrep)\n",
    "    mmsdyz[kk] = mmsdyz[kk]/((nsteps-1-kk)*nrep)\n",
    "    kk = kk+1\n",
    "    \n",
    "'''"
   ]
  },
  {
   "cell_type": "code",
   "execution_count": 10,
   "metadata": {},
   "outputs": [],
   "source": [
    "ndt = 50\n",
    "mmsdx = np.empty(ndt)\n",
    "mmsdy = np.empty(ndt)\n",
    "mmsdz = np.empty(ndt)\n",
    "mmsdxy = np.empty(ndt)\n",
    "mmsdxz = np.empty(ndt)\n",
    "mmsdyz = np.empty(ndt)\n",
    "dtime = np.empty(ndt)\n",
    "dtime=  np.arange(0.01, (0.01*ndt+0.01), 0.01)\n",
    "\n",
    "\n",
    "kk = 0\n",
    "while kk<ndt:\n",
    "    mmsdx[kk] = 0.0\n",
    "    mmsdy[kk] = 0.0\n",
    "    mmsdz[kk] = 0.0\n",
    "    mmsdxy[kk] = 0.0\n",
    "    mmsdxz[kk] = 0.0\n",
    "    mmsdyz[kk] = 0.0\n",
    "    jj = 0\n",
    "    while jj< ((nsteps/(kk+1))-1):\n",
    "        ll = 0\n",
    "        while ll< (nrep):\n",
    "            mmsdx[kk] = (x_o[ll,(jj*(kk+1)+kk+1)]-x_o[ll,jj*(kk+1)])**2+mmsdx[kk]\n",
    "            mmsdy[kk] = (y_o[ll,(jj*(kk+1)+kk+1)]-y_o[ll,jj*(kk+1)])**2+mmsdy[kk]\n",
    "            mmsdz[kk] = (z_o[ll,(jj*(kk+1)+kk+1)]-z_o[ll,jj*(kk+1)])**2+mmsdz[kk]\n",
    "            mmsdxy[kk] = ((x_o[ll,(jj*(kk+1)+kk+1)]-x_o[ll,jj*(kk+1)])*(y_o[ll,(jj*(kk+1)+kk+1)]-y_o[ll,jj*(kk+1)]))+mmsdxy[kk]\n",
    "            mmsdxz[kk] = ((x_o[ll,(jj*(kk+1)+kk+1)]-x_o[ll,jj*(kk+1)])*(z_o[ll,(jj*(kk+1)+kk+1)]-z_o[ll,jj*(kk+1)]))+mmsdxz[kk]\n",
    "            mmsdyz[kk] = ((y_o[ll,(jj*(kk+1)+kk+1)]-y_o[ll,jj*(kk+1)])*(z_o[ll,(jj*(kk+1)+kk+1)]-z_o[ll,jj*(kk+1)]))+mmsdyz[kk]\n",
    "            ll = ll+1\n",
    "#        mmsdx[kk] = mmsdx[kk]/nrep\n",
    "#        mmsdy[kk] = mmsdy[kk]/nrep\n",
    "#        mmsdz[kk] = mmsdz[kk]/nrep\n",
    "#        mmsdxy[kk] = mmsdxy[kk]/nrep\n",
    "#        mmsdxz[kk] = mmsdxz[kk]/nrep\n",
    "#        mmsdyz[kk] = mmsdyz[kk]/nrep\n",
    "        jj = jj+1\n",
    "    mmsdx[kk] = mmsdx[kk]/(((nsteps/(kk+1))-1)*nrep)\n",
    "    mmsdy[kk] = mmsdy[kk]/(((nsteps/(kk+1))-1)*nrep)\n",
    "    mmsdz[kk] = mmsdz[kk]/(((nsteps/(kk+1))-1)*nrep)\n",
    "    mmsdxy[kk] = mmsdxy[kk]/(((nsteps/(kk+1))-1)*nrep)\n",
    "    mmsdxz[kk] = mmsdxz[kk]/(((nsteps/(kk+1))-1)*nrep)\n",
    "    mmsdyz[kk] = mmsdyz[kk]/(((nsteps/(kk+1))-1)*nrep)\n",
    "    kk = kk+1"
   ]
  },
  {
   "cell_type": "code",
   "execution_count": 11,
   "metadata": {},
   "outputs": [],
   "source": [
    "fitx=np.polyfit(dtime[:],mmsdx[:],1)\n",
    "fity=np.polyfit(dtime[:],mmsdy[:],1)\n",
    "fitz=np.polyfit(dtime[:],mmsdz[:],1)\n",
    "fitxy=np.polyfit(dtime[:],mmsdxy[:],1)\n",
    "fitxz=np.polyfit(dtime[:],mmsdxz[:],1)\n",
    "fityz=np.polyfit(dtime[:],mmsdyz[:],1)"
   ]
  },
  {
   "cell_type": "code",
   "execution_count": 12,
   "metadata": {},
   "outputs": [],
   "source": [
    "dxx = fitx[0]/2\n",
    "dyy = fity[0]/2\n",
    "dzz = fitz[0]/2\n",
    "dxy = fitxy[0]/2\n",
    "dxz = fitxz[0]/2\n",
    "dyz = fityz[0]/2"
   ]
  },
  {
   "cell_type": "code",
   "execution_count": 13,
   "metadata": {},
   "outputs": [
    {
     "name": "stdout",
     "output_type": "stream",
     "text": [
      "E-value: [0.08662028 0.06891042 0.03692377]\n",
      "E-vector [[ 0.78374097 -0.6210858   0.00158716]\n",
      " [-0.57682857 -0.72883592 -0.3688726 ]\n",
      " [-0.23025831 -0.28818505  0.92947861]]\n",
      "mamtrix [[ 0.07978862 -0.00798762 -0.00324316]\n",
      " [-0.00798762  0.07045071  0.01331913]\n",
      " [-0.00324316  0.01331913  0.04221513]]\n"
     ]
    }
   ],
   "source": [
    "dd3d = np.array([[dxx, dxy, dxz], \n",
    "                 [dxy, dyy, dyz],\n",
    "                 [dxz, dyz, dzz]])\n",
    "w,v=eig(dd3d)\n",
    "\n",
    "print('E-value:', w)\n",
    "print('E-vector', v)\n",
    "print('mamtrix', dd3d)"
   ]
  },
  {
   "cell_type": "code",
   "execution_count": 14,
   "metadata": {},
   "outputs": [
    {
     "name": "stdout",
     "output_type": "stream",
     "text": [
      "Dx  =   0.0866202766\n",
      "Dy  =   0.0689104165\n",
      "Dz  =   0.0369237660\n",
      "D   =   0.0641514864\n",
      "-----------------------\n",
      "Dx  =   0.0797886159\n",
      "Dy  =   0.0704507122\n",
      "Dz  =   0.0422151311\n",
      "D   =   0.0641514864\n"
     ]
    }
   ],
   "source": [
    "print('Dx  =','{0: >#014.10f}'.format(w[0]))\n",
    "print('Dy  =','{0: >#014.10f}'.format(w[1]))\n",
    "print('Dz  =','{0: >#014.10f}'.format(w[2]))\n",
    "print('D   =','{0: >#014.10f}'.format((w[0]+w[1]+w[2])/3))\n",
    "print('-----------------------')\n",
    "print('Dx  =','{0: >#014.10f}'.format(dxx))\n",
    "print('Dy  =','{0: >#014.10f}'.format(dyy))\n",
    "print('Dz  =','{0: >#014.10f}'.format(dzz))\n",
    "print('D   =','{0: >#014.10f}'.format((dxx+dyy+dzz)/3))"
   ]
  },
  {
   "cell_type": "code",
   "execution_count": 15,
   "metadata": {},
   "outputs": [
    {
     "name": "stdout",
     "output_type": "stream",
     "text": [
      "Dx  =   0.0843717555\n",
      "Dy  =   0.0658675725\n",
      "D   =   0.0751196640\n",
      "-----------------------\n",
      "Dx  =   0.0797886159\n",
      "Dy  =   0.0704507122\n",
      "D   =   0.0751196640\n"
     ]
    }
   ],
   "source": [
    "dd2d = np.array([[dxx, dxy], \n",
    "                 [dxy, dyy]])\n",
    "w2,v2=eig(dd2d)\n",
    "\n",
    "print('Dx  =','{0: >#014.10f}'.format(w2[0]))\n",
    "print('Dy  =','{0: >#014.10f}'.format(w2[1]))\n",
    "print('D   =','{0: >#014.10f}'.format((w2[0]+w2[1])/2))\n",
    "print('-----------------------')\n",
    "print('Dx  =','{0: >#014.10f}'.format(dxx))\n",
    "print('Dy  =','{0: >#014.10f}'.format(dyy))\n",
    "print('D   =','{0: >#014.10f}'.format((dxx+dyy)/2))"
   ]
  },
  {
   "cell_type": "code",
   "execution_count": 16,
   "metadata": {},
   "outputs": [
    {
     "data": {
      "text/plain": [
       "[<matplotlib.lines.Line2D at 0x19d1f262cc8>]"
      ]
     },
     "execution_count": 16,
     "metadata": {},
     "output_type": "execute_result"
    },
    {
     "data": {
      "image/png": "[encoded data removed]",
      "text/plain": [
       "<Figure size 432x288 with 1 Axes>"
      ]
     },
     "metadata": {
      "needs_background": "light"
     },
     "output_type": "display_data"
    },
    {
     "data": {
      "image/png": "[encoded data removed]",
      "text/plain": [
       "<Figure size 432x288 with 1 Axes>"
      ]
     },
     "metadata": {
      "needs_background": "light"
     },
     "output_type": "display_data"
    },
    {
     "data": {
      "image/png": "[encoded data removed]",
      "text/plain": [
       "<Figure size 432x288 with 1 Axes>"
      ]
     },
     "metadata": {
      "needs_background": "light"
     },
     "output_type": "display_data"
    },
    {
     "data": {
      "image/png": "[encoded data removed]",
      "text/plain": [
       "<Figure size 432x288 with 1 Axes>"
      ]
     },
     "metadata": {
      "needs_background": "light"
     },
     "output_type": "display_data"
    }
   ],
   "source": [
    "plt.figure()\n",
    "plt.plot(dtime[:],mmsdx[:])\n",
    "plt.plot(dtime[:],mmsdy[:])\n",
    "plt.plot(dtime[:],mmsdz[:])\n",
    "\n",
    "plt.figure()\n",
    "plt.plot(dtime[:],mmsdx[:])\n",
    "plt.figure()\n",
    "plt.plot(dtime[:],mmsdy[:])\n",
    "plt.figure()\n",
    "plt.plot(dtime[:],mmsdz[:])"
   ]
  },
  {
   "cell_type": "code",
   "execution_count": 18,
   "metadata": {},
   "outputs": [
    {
     "data": {
      "image/png": "[encoded data removed]",
      "text/plain": [
       "<Figure size 432x288 with 1 Axes>"
      ]
     },
     "metadata": {
      "needs_background": "light"
     },
     "output_type": "display_data"
    }
   ],
   "source": [
    "plt.figure()\n",
    "plt.plot(dtime[:],mmsdx[:],color='r',linewidth=2,label=\"x\")\n",
    "plt.plot(dtime[:],mmsdy[:],color='g',linewidth=2,label=\"y\")\n",
    "plt.plot(dtime[:],mmsdz[:],color='b',linewidth=2,label=\"z\")\n",
    "#plt.plot(dtime[:],pred_msdx[:],'--',color='r',linewidth=2)\n",
    "\n",
    "plt.legend(loc=\"upper left\")\n",
    "plt.xlabel('τ (ps)')\n",
    "plt.ylabel('MSD')\n",
    "plt.tick_params(axis=\"x\",which='major', direction=\"in\", length=5, width=0.5)\n",
    "plt.tick_params(axis=\"y\",which='major',direction=\"in\", length=5, width=0.5)\n",
    "plt.tick_params(axis=\"x\",which='minor', direction=\"in\", length=5, width=0.5)\n",
    "plt.tick_params(axis=\"y\",which='minor',direction=\"in\", length=5, width=0.5)\n",
    "plt.grid(which='major',color='#CCCCCC', linestyle='--', linewidth=0.5)\n",
    "plt.ticklabel_format(axis=\"x\", style=\"plain\", scilimits=(0,0),useMathText=True)\n",
    "plt.tick_params(bottom=True, top=True, left=True, right=True)\n",
    "plt.savefig(path +'/msd.jpg', dpi=400)"
   ]
  },
  {
   "cell_type": "code",
   "execution_count": 20,
   "metadata": {},
   "outputs": [
    {
     "name": "stdout",
     "output_type": "stream",
     "text": [
      "Dxx  =   0.0797886159   0.0034155854\n",
      "Dyy  =   0.0704507122   0.0050142307\n",
      "Dxy  =  -0.0079876208\n",
      "Dx2d  =   0.0843717555\n",
      "Dy2d  =   0.0658675725\n",
      "D2d   =   0.0751196640   0.0030335101\n"
     ]
    }
   ],
   "source": [
    "pred_msdx=fitx[0]*dtime+fitx[1]\n",
    "pred_msdy=fity[0]*dtime+fity[1]\n",
    "pred_msdz=fitz[0]*dtime+fitz[1]\n",
    "\n",
    "errx = np.sqrt(np.sum((mmsdx-pred_msdx)**2)/len(mmsdx))\n",
    "erry = np.sqrt(np.sum((mmsdy-pred_msdy)**2)/len(mmsdy))\n",
    "errz = np.sqrt(np.sum((mmsdz-pred_msdz)**2)/len(mmsdz))\n",
    "err2d = np.sqrt(errx**2+erry**2)\n",
    "err2d\n",
    "\n",
    "print('Dxx  =','{0: >#014.10f}'.format(dxx),'{0: >#014.10f}'.format(errx))\n",
    "print('Dyy  =','{0: >#014.10f}'.format(dyy),'{0: >#014.10f}'.format(erry))\n",
    "print('Dxy  =','{0: >#014.10f}'.format(dxy))\n",
    "\n",
    "print('Dx2d  =','{0: >#014.10f}'.format(w2[0]))\n",
    "print('Dy2d  =','{0: >#014.10f}'.format(w2[1]))\n",
    "print('D2d   =','{0: >#014.10f}'.format((w2[0]+w2[1])/2),'{0: >#014.10f}'.format(err2d*((w2[0]+w2[1])/2)/((w2[0]+w2[1]))))"
   ]
  },
  {
   "cell_type": "code",
   "execution_count": null,
   "metadata": {},
   "outputs": [],
   "source": []
  }
 ],
 "metadata": {
  "kernelspec": {
   "display_name": "Python 3 (ipykernel)",
   "language": "python",
   "name": "python3"
  },
  "language_info": {
   "codemirror_mode": {
    "name": "ipython",
    "version": 3
   },
   "file_extension": ".py",
   "mimetype": "text/x-python",
   "name": "python",
   "nbconvert_exporter": "python",
   "pygments_lexer": "ipython3",
   "version": "3.11.9"
  }
 },
 "nbformat": 4,
 "nbformat_minor": 4
}
