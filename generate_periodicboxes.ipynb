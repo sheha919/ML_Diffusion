{
 "cells": [
  {
   "cell_type": "markdown",
   "id": "dc0cef71-2d9f-4549-882a-f4fc7699bb5b",
   "metadata": {},
   "source": [
    "# Generation of Periodic boxes\n",
    "## This code is used to mimic graphene sheet when periodic boundary condition is applied"
   ]
  },
  {
   "cell_type": "code",
   "execution_count": 16,
   "id": "3e6732d1-325f-49ab-8ada-50b822e54862",
   "metadata": {},
   "outputs": [],
   "source": [
    "import os\n",
    "import numpy as np\n",
    "import math"
   ]
  },
  {
   "cell_type": "code",
   "execution_count": 17,
   "id": "c9966a97-2815-4a40-a1d4-a97d7e32dab1",
   "metadata": {},
   "outputs": [],
   "source": [
    "file = os.path.join(\"graphene_box2.xyz\")"
   ]
  },
  {
   "cell_type": "code",
   "execution_count": 18,
   "id": "d77aff8b-0317-4a64-9be4-44b025d682b0",
   "metadata": {},
   "outputs": [],
   "source": [
    "atom= []\n",
    "x=[]\n",
    "y=[]\n",
    "z= []\n",
    "with open(file, 'r') as file:\n",
    "    xyz= file.readlines()[2:]\n",
    "    for indx,line in enumerate(xyz):\n",
    "        atom.append(str(line.split()[0]))\n",
    "        x.append(float(line.split()[1]))\n",
    "        y.append(float(line.split()[2]))\n",
    "        z.append(float(line.split()[3]))"
   ]
  },
  {
   "cell_type": "code",
   "execution_count": 19,
   "id": "7d4e9b3b-0927-466b-a527-f0138944e00b",
   "metadata": {},
   "outputs": [],
   "source": [
    "with open(os.path.join(\"twisted_graphene_box2.xyz\"), 'w') as new_file:\n",
    "    #for IQmol\n",
    "    new_file.write(str(len(atom))+\"\\n\"+\"\\n\")\n",
    "    #original\n",
    "    for i in range(len(atom)):\n",
    "        new_file.write(atom[i] + \" \" + str(y[i]) + \" \" + str(x[i]) + \" \" + str(z[i])+\"\\n\")\n"
   ]
  },
  {
   "cell_type": "code",
   "execution_count": null,
   "id": "4c18bd53-f395-4c99-9793-146978842be4",
   "metadata": {},
   "outputs": [],
   "source": []
  }
 ],
 "metadata": {
  "kernelspec": {
   "display_name": "Python 3 (ipykernel)",
   "language": "python",
   "name": "python3"
  },
  "language_info": {
   "codemirror_mode": {
    "name": "ipython",
    "version": 3
   },
   "file_extension": ".py",
   "mimetype": "text/x-python",
   "name": "python",
   "nbconvert_exporter": "python",
   "pygments_lexer": "ipython3",
   "version": "3.11.9"
  }
 },
 "nbformat": 4,
 "nbformat_minor": 5
}
